{
 "cells": [
  {
   "cell_type": "code",
   "execution_count": null,
   "metadata": {},
   "outputs": [],
   "source": [
    "import os\n",
    "%load_ext autoreload\n",
    "%autoreload 2\n",
    "# Set CWD based on notebook path to be root of repo\n",
    "current_directory = %pwd\n",
    "os.chdir(os.path.dirname(current_directory))\n",
    "print(current_directory)"
   ]
  },
  {
   "cell_type": "code",
   "execution_count": null,
   "metadata": {},
   "outputs": [],
   "source": [
    "from locate3d_data.locate3d_dataset import Locate3DDataset\n",
    "\n",
    "# Add paths to dataset roots for those splits you wish to use.\n",
    "dataset = Locate3DDataset(\n",
    "    annotations_fpath = 'locate3d_data/dataset/train_scannetpp.json',\n",
    "    return_featurized_pointcloud = False,\n",
    "    scannet_data_dir = '[scannet_data_dir]',\n",
    "    scannetpp_data_dir = '[scannetpp_data_dir',\n",
    "    arkitscenes_data_dir = '[arkitscenes_data_dir]'\n",
    ")\n"
   ]
  },
  {
   "cell_type": "code",
   "execution_count": null,
   "metadata": {},
   "outputs": [],
   "source": [
    "from locate3d_data.vis_utils import print_colored_text\n",
    "\n",
    "# This will print the referring expression such that the red text is aligned with the red mask, etc.\n",
    "# (This breaks in the limit, e.g. when multiple masks are assigned to a single word or there are more grounded objects than the limited pool of ANSI colors)\n",
    "sample = dataset[0]\n",
    "print_colored_text(sample['lang_data']['text_caption'], sample['lang_data']['positive_map'])"
   ]
  },
  {
   "cell_type": "code",
   "execution_count": null,
   "metadata": {
    "vscode": {
     "languageId": "shellscript"
    }
   },
   "outputs": [],
   "source": [
    "from locate3d_data.vis_utils import plot_3d_pointcloud\n",
    "\n",
    "def get_instance_names(text_caption, positive_map):\n",
    "    instance_names = []\n",
    "    for entity_spans in positive_map:\n",
    "        entity_name = \" \".join([text_caption[lo:hi] for lo, hi in entity_spans])\n",
    "        instance_names.append(entity_name)\n",
    "    return instance_names\n",
    "instance_names = get_instance_names(\n",
    "    text_caption=sample['lang_data']['text_caption'],\n",
    "    positive_map=sample['lang_data']['positive_map']\n",
    ")\n",
    "plot_3d_pointcloud(sample['mesh']['xyz'], sample['mesh']['rgb'], bboxes=sample['mesh']['gt_boxes'], instance_names=instance_names, max_points=100_000, seg_onehot=sample['mesh']['gt_masks'])"
   ]
  }
 ],
 "metadata": {
  "kernelspec": {
   "display_name": "Python 3 (ipykernel)",
   "language": "python",
   "name": "python3"
  },
  "language_info": {
   "codemirror_mode": {
    "name": "ipython",
    "version": 3
   },
   "file_extension": ".py",
   "mimetype": "text/x-python",
   "name": "python",
   "nbconvert_exporter": "python",
   "pygments_lexer": "ipython3",
   "version": "3.9.19"
  }
 },
 "nbformat": 4,
 "nbformat_minor": 4
}
